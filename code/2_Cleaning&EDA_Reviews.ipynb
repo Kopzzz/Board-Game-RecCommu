{
 "cells": [
  {
   "attachments": {},
   "cell_type": "markdown",
   "metadata": {},
   "source": [
    "# Importing Libraries"
   ]
  },
  {
   "cell_type": "code",
   "execution_count": 1,
   "metadata": {},
   "outputs": [],
   "source": [
    "import warnings\n",
    "warnings.filterwarnings('ignore')\n",
    "\n",
    "import pandas as pd\n",
    "import numpy as np\n",
    "import matplotlib.pyplot as plt\n",
    "import seaborn as sns"
   ]
  },
  {
   "attachments": {},
   "cell_type": "markdown",
   "metadata": {},
   "source": [
    "# Loading the Data"
   ]
  },
  {
   "cell_type": "code",
   "execution_count": 3,
   "metadata": {},
   "outputs": [],
   "source": [
    "df_rv_tmp = pd.read_csv('../datasets/bgg-19m-reviews.csv')\n",
    "df_bg = pd.read_csv('../datasets/games-cleaned.csv')"
   ]
  },
  {
   "attachments": {},
   "cell_type": "markdown",
   "metadata": {},
   "source": [
    "# Data Cleaning & EDA (Reviews)"
   ]
  },
  {
   "cell_type": "code",
   "execution_count": 4,
   "metadata": {},
   "outputs": [
    {
     "data": {
      "text/html": [
       "<div>\n",
       "<style scoped>\n",
       "    .dataframe tbody tr th:only-of-type {\n",
       "        vertical-align: middle;\n",
       "    }\n",
       "\n",
       "    .dataframe tbody tr th {\n",
       "        vertical-align: top;\n",
       "    }\n",
       "\n",
       "    .dataframe thead th {\n",
       "        text-align: right;\n",
       "    }\n",
       "</style>\n",
       "<table border=\"1\" class=\"dataframe\">\n",
       "  <thead>\n",
       "    <tr style=\"text-align: right;\">\n",
       "      <th></th>\n",
       "      <th>Unnamed: 0</th>\n",
       "      <th>user</th>\n",
       "      <th>rating</th>\n",
       "      <th>comment</th>\n",
       "      <th>ID</th>\n",
       "      <th>name</th>\n",
       "    </tr>\n",
       "  </thead>\n",
       "  <tbody>\n",
       "    <tr>\n",
       "      <th>0</th>\n",
       "      <td>0</td>\n",
       "      <td>Torsten</td>\n",
       "      <td>10.0</td>\n",
       "      <td>NaN</td>\n",
       "      <td>30549</td>\n",
       "      <td>Pandemic</td>\n",
       "    </tr>\n",
       "    <tr>\n",
       "      <th>1</th>\n",
       "      <td>1</td>\n",
       "      <td>mitnachtKAUBO-I</td>\n",
       "      <td>10.0</td>\n",
       "      <td>Hands down my favorite new game of BGG CON 200...</td>\n",
       "      <td>30549</td>\n",
       "      <td>Pandemic</td>\n",
       "    </tr>\n",
       "    <tr>\n",
       "      <th>2</th>\n",
       "      <td>2</td>\n",
       "      <td>avlawn</td>\n",
       "      <td>10.0</td>\n",
       "      <td>I tend to either love or easily tire of co-op ...</td>\n",
       "      <td>30549</td>\n",
       "      <td>Pandemic</td>\n",
       "    </tr>\n",
       "    <tr>\n",
       "      <th>3</th>\n",
       "      <td>3</td>\n",
       "      <td>Mike Mayer</td>\n",
       "      <td>10.0</td>\n",
       "      <td>NaN</td>\n",
       "      <td>30549</td>\n",
       "      <td>Pandemic</td>\n",
       "    </tr>\n",
       "    <tr>\n",
       "      <th>4</th>\n",
       "      <td>4</td>\n",
       "      <td>Mease19</td>\n",
       "      <td>10.0</td>\n",
       "      <td>This is an amazing co-op game.  I play mostly ...</td>\n",
       "      <td>30549</td>\n",
       "      <td>Pandemic</td>\n",
       "    </tr>\n",
       "  </tbody>\n",
       "</table>\n",
       "</div>"
      ],
      "text/plain": [
       "   Unnamed: 0             user  rating  \\\n",
       "0           0          Torsten    10.0   \n",
       "1           1  mitnachtKAUBO-I    10.0   \n",
       "2           2           avlawn    10.0   \n",
       "3           3       Mike Mayer    10.0   \n",
       "4           4          Mease19    10.0   \n",
       "\n",
       "                                             comment     ID      name  \n",
       "0                                                NaN  30549  Pandemic  \n",
       "1  Hands down my favorite new game of BGG CON 200...  30549  Pandemic  \n",
       "2  I tend to either love or easily tire of co-op ...  30549  Pandemic  \n",
       "3                                                NaN  30549  Pandemic  \n",
       "4  This is an amazing co-op game.  I play mostly ...  30549  Pandemic  "
      ]
     },
     "execution_count": 4,
     "metadata": {},
     "output_type": "execute_result"
    }
   ],
   "source": [
    "df_rv = df_rv_tmp.copy()\n",
    "df_rv.head()"
   ]
  },
  {
   "cell_type": "code",
   "execution_count": 5,
   "metadata": {},
   "outputs": [
    {
     "data": {
      "text/plain": [
       "(18964807, 6)"
      ]
     },
     "execution_count": 5,
     "metadata": {},
     "output_type": "execute_result"
    }
   ],
   "source": [
    "df_rv.shape"
   ]
  },
  {
   "cell_type": "markdown",
   "metadata": {},
   "source": [
    "ตัดรีวิวที่ `name` ไม่ได้อยู่ใน `df_bg` "
   ]
  },
  {
   "cell_type": "code",
   "execution_count": 6,
   "metadata": {
    "execution": {
     "iopub.execute_input": "2022-12-28T12:50:49.754807Z",
     "iopub.status.busy": "2022-12-28T12:50:49.754329Z",
     "iopub.status.idle": "2022-12-28T12:50:52.994517Z",
     "shell.execute_reply": "2022-12-28T12:50:52.993519Z",
     "shell.execute_reply.started": "2022-12-28T12:50:49.754761Z"
    },
    "trusted": true
   },
   "outputs": [
    {
     "data": {
      "text/plain": [
       "(15281411, 4)"
      ]
     },
     "execution_count": 6,
     "metadata": {},
     "output_type": "execute_result"
    }
   ],
   "source": [
    "df_rv = df_rv[df_rv['name'].isin(df_bg['name'])]\n",
    "df_rv = df_rv[['user', 'name', 'rating', 'comment']]\n",
    "df_rv.shape"
   ]
  },
  {
   "cell_type": "code",
   "execution_count": 7,
   "metadata": {
    "execution": {
     "iopub.execute_input": "2022-12-28T12:50:52.996643Z",
     "iopub.status.busy": "2022-12-28T12:50:52.996289Z",
     "iopub.status.idle": "2022-12-28T12:50:53.573302Z",
     "shell.execute_reply": "2022-12-28T12:50:53.572093Z",
     "shell.execute_reply.started": "2022-12-28T12:50:52.996613Z"
    },
    "trusted": true
   },
   "outputs": [
    {
     "data": {
      "text/plain": [
       "count    1.528141e+07\n",
       "mean     7.282578e+00\n",
       "std      1.471673e+00\n",
       "min      1.401300e-45\n",
       "25%      6.500000e+00\n",
       "50%      7.000000e+00\n",
       "75%      8.000000e+00\n",
       "max      1.000000e+01\n",
       "Name: rating, dtype: float64"
      ]
     },
     "execution_count": 7,
     "metadata": {},
     "output_type": "execute_result"
    }
   ],
   "source": [
    "df_rv['rating'].describe()"
   ]
  },
  {
   "cell_type": "markdown",
   "metadata": {},
   "source": [
    "ตัดข้อมูลที่ `rating` น้อยกว่า 1"
   ]
  },
  {
   "cell_type": "code",
   "execution_count": 8,
   "metadata": {
    "execution": {
     "iopub.execute_input": "2022-12-28T12:50:53.575064Z",
     "iopub.status.busy": "2022-12-28T12:50:53.574748Z",
     "iopub.status.idle": "2022-12-28T12:50:55.572705Z",
     "shell.execute_reply": "2022-12-28T12:50:55.571511Z",
     "shell.execute_reply.started": "2022-12-28T12:50:53.575037Z"
    },
    "trusted": true
   },
   "outputs": [
    {
     "data": {
      "text/plain": [
       "count    1.528141e+07\n",
       "mean     7.282580e+00\n",
       "std      1.471670e+00\n",
       "min      1.000000e+00\n",
       "25%      6.500000e+00\n",
       "50%      7.000000e+00\n",
       "75%      8.000000e+00\n",
       "max      1.000000e+01\n",
       "Name: rating, dtype: float64"
      ]
     },
     "execution_count": 8,
     "metadata": {},
     "output_type": "execute_result"
    }
   ],
   "source": [
    "df_rv = df_rv[df_rv['rating']>=1]\n",
    "df_rv['rating'].describe()"
   ]
  },
  {
   "cell_type": "markdown",
   "metadata": {},
   "source": [
    "ตัดข้อมูลที่ไม่มี `user`"
   ]
  },
  {
   "cell_type": "code",
   "execution_count": 9,
   "metadata": {
    "execution": {
     "iopub.execute_input": "2022-12-28T12:50:55.574538Z",
     "iopub.status.busy": "2022-12-28T12:50:55.574175Z",
     "iopub.status.idle": "2022-12-28T12:50:58.183058Z",
     "shell.execute_reply": "2022-12-28T12:50:58.181852Z",
     "shell.execute_reply.started": "2022-12-28T12:50:55.574505Z"
    },
    "trusted": true
   },
   "outputs": [],
   "source": [
    "df_rv = df_rv[df_rv['user'] == df_rv['user']]"
   ]
  },
  {
   "cell_type": "markdown",
   "metadata": {},
   "source": [
    "ตัด `user` ที่มีการให้คะแนนน้อยกว่า 100 เกม"
   ]
  },
  {
   "cell_type": "code",
   "execution_count": 10,
   "metadata": {
    "execution": {
     "iopub.execute_input": "2022-12-28T12:50:58.184827Z",
     "iopub.status.busy": "2022-12-28T12:50:58.184484Z",
     "iopub.status.idle": "2022-12-28T12:51:06.396216Z",
     "shell.execute_reply": "2022-12-28T12:51:06.394871Z",
     "shell.execute_reply.started": "2022-12-28T12:50:58.184796Z"
    },
    "trusted": true
   },
   "outputs": [
    {
     "data": {
      "text/plain": [
       "(2041970, 4)"
      ]
     },
     "execution_count": 10,
     "metadata": {},
     "output_type": "execute_result"
    }
   ],
   "source": [
    "cv = df_rv['user'].value_counts()\n",
    "df_rv = df_rv[df_rv['user'].isin(cv[cv >= 450].index)]\n",
    "df_rv.shape"
   ]
  },
  {
   "cell_type": "code",
   "execution_count": 11,
   "metadata": {
    "execution": {
     "iopub.execute_input": "2022-12-28T12:51:06.400331Z",
     "iopub.status.busy": "2022-12-28T12:51:06.399533Z",
     "iopub.status.idle": "2022-12-28T12:51:15.110954Z",
     "shell.execute_reply": "2022-12-28T12:51:15.110014Z",
     "shell.execute_reply.started": "2022-12-28T12:51:06.400290Z"
    },
    "trusted": true
   },
   "outputs": [
    {
     "data": {
      "image/png": "[encoded data removed]",
      "text/plain": [
       "<Figure size 800x600 with 1 Axes>"
      ]
     },
     "metadata": {},
     "output_type": "display_data"
    }
   ],
   "source": [
    "plt.figure(figsize=(8,6))\n",
    "plt.title('user rating Plot')\n",
    "sns.distplot(df_rv['rating'])\n",
    "plt.show()"
   ]
  },
  {
   "cell_type": "markdown",
   "metadata": {},
   "source": [
    "ผู้ใช้ส่วนใหญ่ให้ `rating` ที่ 6-8"
   ]
  },
  {
   "cell_type": "code",
   "execution_count": 12,
   "metadata": {
    "execution": {
     "iopub.execute_input": "2022-12-28T12:51:15.112673Z",
     "iopub.status.busy": "2022-12-28T12:51:15.112300Z",
     "iopub.status.idle": "2022-12-28T12:51:15.480277Z",
     "shell.execute_reply": "2022-12-28T12:51:15.478887Z",
     "shell.execute_reply.started": "2022-12-28T12:51:15.112640Z"
    },
    "trusted": true
   },
   "outputs": [
    {
     "data": {
      "text/plain": [
       "doesn't comment    1509499\n",
       "comment             532471\n",
       "dtype: int64"
      ]
     },
     "execution_count": 12,
     "metadata": {},
     "output_type": "execute_result"
    }
   ],
   "source": [
    "not_comment = df_rv.isna().sum().sort_values(ascending=False)[0]\n",
    "\n",
    "d = {\"doesn't comment\": not_comment, 'comment': df_rv.shape[0]-not_comment}    \n",
    "ser_comment = pd.Series(data=d, index=[\"doesn't comment\", 'comment'])\n",
    "ser_comment"
   ]
  },
  {
   "cell_type": "code",
   "execution_count": 13,
   "metadata": {
    "execution": {
     "iopub.execute_input": "2022-12-28T12:51:15.481953Z",
     "iopub.status.busy": "2022-12-28T12:51:15.481623Z",
     "iopub.status.idle": "2022-12-28T12:51:15.619055Z",
     "shell.execute_reply": "2022-12-28T12:51:15.617336Z",
     "shell.execute_reply.started": "2022-12-28T12:51:15.481924Z"
    },
    "trusted": true
   },
   "outputs": [
    {
     "data": {
      "image/png": "[encoded data removed]",
      "text/plain": [
       "<Figure size 1000x600 with 1 Axes>"
      ]
     },
     "metadata": {},
     "output_type": "display_data"
    }
   ],
   "source": [
    "plt.figure(figsize=(10,6))\n",
    "plt.subplot(1,2,1)\n",
    "plt.title('users comment')\n",
    "plt.pie(ser_comment, autopct='%.2f%%')\n",
    "plt.legend(ser_comment.index)\n",
    "plt.show()"
   ]
  },
  {
   "cell_type": "markdown",
   "metadata": {},
   "source": [
    "มีผู้ใช้ที่ `comment` เพียง 26% จากรีวิวทั้งหมด (5 แสนคนจาก 2 ล้านคน)"
   ]
  },
  {
   "cell_type": "markdown",
   "metadata": {},
   "source": [
    "# Save clean data to CSV"
   ]
  },
  {
   "cell_type": "code",
   "execution_count": 14,
   "metadata": {},
   "outputs": [],
   "source": [
    "# df_rv.to_csv('reviews-cleaned.csv', index=False)"
   ]
  }
 ],
 "metadata": {
  "kernelspec": {
   "display_name": "Python 3",
   "language": "python",
   "name": "python3"
  },
  "language_info": {
   "codemirror_mode": {
    "name": "ipython",
    "version": 3
   },
   "file_extension": ".py",
   "mimetype": "text/x-python",
   "name": "python",
   "nbconvert_exporter": "python",
   "pygments_lexer": "ipython3",
   "version": "3.8.0 (tags/v3.8.0:fa919fd, Oct 14 2019, 19:37:50) [MSC v.1916 64 bit (AMD64)]"
  },
  "orig_nbformat": 4,
  "vscode": {
   "interpreter": {
    "hash": "5d04d0ea025a2b5c0a405c24c3ed943d49065a11de485e353892bf0638615a3b"
   }
  }
 },
 "nbformat": 4,
 "nbformat_minor": 2
}
