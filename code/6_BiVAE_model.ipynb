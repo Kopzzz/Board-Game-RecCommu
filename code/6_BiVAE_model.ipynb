{
 "cells": [
  {
   "cell_type": "code",
   "execution_count": 2,
   "metadata": {},
   "outputs": [
    {
     "name": "stdout",
     "output_type": "stream",
     "text": [
      "System version: 3.8.0 (tags/v3.8.0:fa919fd, Oct 14 2019, 19:37:50) [MSC v.1916 64 bit (AMD64)]\n",
      "Cornac version: 1.17\n"
     ]
    }
   ],
   "source": [
    "import warnings\n",
    "warnings.filterwarnings('ignore')\n",
    "\n",
    "import sys\n",
    "import os\n",
    "# import torch\n",
    "import cornac\n",
    "import pandas as pd\n",
    "import joblib\n",
    "\n",
    "from recommenders.datasets.python_splitters import python_random_split\n",
    "from recommenders.evaluation.python_evaluation import map_at_k, ndcg_at_k, precision_at_k, recall_at_k\n",
    "from recommenders.models.cornac.cornac_utils import predict_ranking\n",
    "from recommenders.utils.timer import Timer\n",
    "from recommenders.utils.constants import SEED\n",
    "\n",
    "print(\"System version: {}\".format(sys.version))\n",
    "# print(\"PyTorch version: {}\".format(torch.__version__))\n",
    "print(\"Cornac version: {}\".format(cornac.__version__))"
   ]
  },
  {
   "cell_type": "code",
   "execution_count": 2,
   "metadata": {},
   "outputs": [],
   "source": [
    "# top k items to recommend\n",
    "TOP_K = 10\n",
    "\n",
    "# Model parameters\n",
    "LATENT_DIM = 50\n",
    "ENCODER_DIMS = [100]\n",
    "ACT_FUNC = \"tanh\"\n",
    "LIKELIHOOD = \"pois\"\n",
    "NUM_EPOCHS = 500\n",
    "BATCH_SIZE = 128\n",
    "LEARNING_RATE = 0.001"
   ]
  },
  {
   "cell_type": "code",
   "execution_count": 3,
   "metadata": {},
   "outputs": [
    {
     "data": {
      "text/html": [
       "<div>\n",
       "<style scoped>\n",
       "    .dataframe tbody tr th:only-of-type {\n",
       "        vertical-align: middle;\n",
       "    }\n",
       "\n",
       "    .dataframe tbody tr th {\n",
       "        vertical-align: top;\n",
       "    }\n",
       "\n",
       "    .dataframe thead th {\n",
       "        text-align: right;\n",
       "    }\n",
       "</style>\n",
       "<table border=\"1\" class=\"dataframe\">\n",
       "  <thead>\n",
       "    <tr style=\"text-align: right;\">\n",
       "      <th></th>\n",
       "      <th>user</th>\n",
       "      <th>name</th>\n",
       "      <th>rating</th>\n",
       "    </tr>\n",
       "  </thead>\n",
       "  <tbody>\n",
       "    <tr>\n",
       "      <th>0</th>\n",
       "      <td>1 Family Meeple</td>\n",
       "      <td>10 Days in Europe</td>\n",
       "      <td>4.1</td>\n",
       "    </tr>\n",
       "    <tr>\n",
       "      <th>1</th>\n",
       "      <td>1 Family Meeple</td>\n",
       "      <td>12 Days</td>\n",
       "      <td>7.0</td>\n",
       "    </tr>\n",
       "    <tr>\n",
       "      <th>2</th>\n",
       "      <td>1 Family Meeple</td>\n",
       "      <td>7 Wonders</td>\n",
       "      <td>6.5</td>\n",
       "    </tr>\n",
       "    <tr>\n",
       "      <th>3</th>\n",
       "      <td>1 Family Meeple</td>\n",
       "      <td>A Column of Fire</td>\n",
       "      <td>5.0</td>\n",
       "    </tr>\n",
       "    <tr>\n",
       "      <th>4</th>\n",
       "      <td>1 Family Meeple</td>\n",
       "      <td>A Feast for Odin</td>\n",
       "      <td>10.0</td>\n",
       "    </tr>\n",
       "  </tbody>\n",
       "</table>\n",
       "</div>"
      ],
      "text/plain": [
       "              user               name  rating\n",
       "0  1 Family Meeple  10 Days in Europe     4.1\n",
       "1  1 Family Meeple            12 Days     7.0\n",
       "2  1 Family Meeple          7 Wonders     6.5\n",
       "3  1 Family Meeple   A Column of Fire     5.0\n",
       "4  1 Family Meeple   A Feast for Odin    10.0"
      ]
     },
     "execution_count": 3,
     "metadata": {},
     "output_type": "execute_result"
    }
   ],
   "source": [
    "data = pd.read_csv('../datasets/reviews-cleaned.csv')\n",
    "\n",
    "data.head()"
   ]
  },
  {
   "cell_type": "code",
   "execution_count": 4,
   "metadata": {},
   "outputs": [
    {
     "name": "stdout",
     "output_type": "stream",
     "text": [
      "Number of users: 3067\n",
      "Number of items: 4582\n"
     ]
    }
   ],
   "source": [
    "train, test = python_random_split(data, 0.75)\n",
    "\n",
    "train_set = cornac.data.Dataset.from_uir(train.itertuples(index=False), seed=SEED)\n",
    "print('Number of users: {}'.format(train_set.num_users))\n",
    "print('Number of items: {}'.format(train_set.num_items))"
   ]
  },
  {
   "cell_type": "code",
   "execution_count": 5,
   "metadata": {},
   "outputs": [
    {
     "data": {
      "application/vnd.jupyter.widget-view+json": {
       "model_id": "1716a48ae67349fab75d4c702126a643",
       "version_major": 2,
       "version_minor": 0
      },
      "text/plain": [
       "  0%|          | 0/500 [00:00<?, ?it/s]"
      ]
     },
     "metadata": {},
     "output_type": "display_data"
    },
    {
     "name": "stdout",
     "output_type": "stream",
     "text": [
      "Took 1876.6480 seconds for training.\n"
     ]
    }
   ],
   "source": [
    "bivae = cornac.models.BiVAECF(\n",
    "    k=LATENT_DIM,\n",
    "    encoder_structure=ENCODER_DIMS,\n",
    "    act_fn=ACT_FUNC,\n",
    "    likelihood=LIKELIHOOD,\n",
    "    n_epochs=NUM_EPOCHS,\n",
    "    batch_size=BATCH_SIZE,\n",
    "    learning_rate=LEARNING_RATE,\n",
    "    seed=SEED,\n",
    "    use_gpu=torch.cuda.is_available(),\n",
    "    verbose=True\n",
    ")\n",
    "\n",
    "with Timer() as t:\n",
    "    bivae.fit(train_set)\n",
    "print(\"Took {} seconds for training.\".format(t))"
   ]
  },
  {
   "cell_type": "code",
   "execution_count": 7,
   "metadata": {},
   "outputs": [
    {
     "name": "stdout",
     "output_type": "stream",
     "text": [
      "Took 29.1711 seconds for prediction.\n"
     ]
    }
   ],
   "source": [
    "with Timer() as t:\n",
    "    all_predictions = predict_ranking(bivae, train, usercol='user', itemcol='name', remove_seen=True)\n",
    "print(\"Took {} seconds for prediction.\".format(t))"
   ]
  },
  {
   "cell_type": "code",
   "execution_count": 11,
   "metadata": {},
   "outputs": [
    {
     "data": {
      "text/html": [
       "<div>\n",
       "<style scoped>\n",
       "    .dataframe tbody tr th:only-of-type {\n",
       "        vertical-align: middle;\n",
       "    }\n",
       "\n",
       "    .dataframe tbody tr th {\n",
       "        vertical-align: top;\n",
       "    }\n",
       "\n",
       "    .dataframe thead th {\n",
       "        text-align: right;\n",
       "    }\n",
       "</style>\n",
       "<table border=\"1\" class=\"dataframe\">\n",
       "  <thead>\n",
       "    <tr style=\"text-align: right;\">\n",
       "      <th></th>\n",
       "      <th>userID</th>\n",
       "      <th>itemID</th>\n",
       "      <th>prediction</th>\n",
       "    </tr>\n",
       "  </thead>\n",
       "  <tbody>\n",
       "    <tr>\n",
       "      <th>1514036</th>\n",
       "      <td>AmandaDesignsGames</td>\n",
       "      <td>Kanban EV</td>\n",
       "      <td>0.188635</td>\n",
       "    </tr>\n",
       "    <tr>\n",
       "      <th>1514037</th>\n",
       "      <td>AmandaDesignsGames</td>\n",
       "      <td>Darwin's Choice</td>\n",
       "      <td>0.011565</td>\n",
       "    </tr>\n",
       "    <tr>\n",
       "      <th>1514038</th>\n",
       "      <td>AmandaDesignsGames</td>\n",
       "      <td>Rallyman: GT</td>\n",
       "      <td>0.081046</td>\n",
       "    </tr>\n",
       "    <tr>\n",
       "      <th>1514039</th>\n",
       "      <td>AmandaDesignsGames</td>\n",
       "      <td>Kami-sama</td>\n",
       "      <td>0.026116</td>\n",
       "    </tr>\n",
       "    <tr>\n",
       "      <th>1514040</th>\n",
       "      <td>AmandaDesignsGames</td>\n",
       "      <td>Round House</td>\n",
       "      <td>0.189510</td>\n",
       "    </tr>\n",
       "    <tr>\n",
       "      <th>...</th>\n",
       "      <td>...</td>\n",
       "      <td>...</td>\n",
       "      <td>...</td>\n",
       "    </tr>\n",
       "    <tr>\n",
       "      <th>14052989</th>\n",
       "      <td>Kaixo</td>\n",
       "      <td>Warhammer Underworlds: Beastgrave</td>\n",
       "      <td>0.001133</td>\n",
       "    </tr>\n",
       "    <tr>\n",
       "      <th>14052990</th>\n",
       "      <td>Kaixo</td>\n",
       "      <td>Peloponnesian War</td>\n",
       "      <td>0.000608</td>\n",
       "    </tr>\n",
       "    <tr>\n",
       "      <th>14052991</th>\n",
       "      <td>Kaixo</td>\n",
       "      <td>Warhammer 40,000 (Eighth Edition)</td>\n",
       "      <td>0.000334</td>\n",
       "    </tr>\n",
       "    <tr>\n",
       "      <th>14052992</th>\n",
       "      <td>Kaixo</td>\n",
       "      <td>Boss Monster: Rise of the Minibosses</td>\n",
       "      <td>0.001561</td>\n",
       "    </tr>\n",
       "    <tr>\n",
       "      <th>14052993</th>\n",
       "      <td>Kaixo</td>\n",
       "      <td>Totaler Krieg!</td>\n",
       "      <td>0.000146</td>\n",
       "    </tr>\n",
       "  </tbody>\n",
       "</table>\n",
       "<p>12538958 rows × 3 columns</p>\n",
       "</div>"
      ],
      "text/plain": [
       "                      userID                                itemID  prediction\n",
       "1514036   AmandaDesignsGames                             Kanban EV    0.188635\n",
       "1514037   AmandaDesignsGames                       Darwin's Choice    0.011565\n",
       "1514038   AmandaDesignsGames                          Rallyman: GT    0.081046\n",
       "1514039   AmandaDesignsGames                             Kami-sama    0.026116\n",
       "1514040   AmandaDesignsGames                           Round House    0.189510\n",
       "...                      ...                                   ...         ...\n",
       "14052989               Kaixo     Warhammer Underworlds: Beastgrave    0.001133\n",
       "14052990               Kaixo                     Peloponnesian War    0.000608\n",
       "14052991               Kaixo     Warhammer 40,000 (Eighth Edition)    0.000334\n",
       "14052992               Kaixo  Boss Monster: Rise of the Minibosses    0.001561\n",
       "14052993               Kaixo                        Totaler Krieg!    0.000146\n",
       "\n",
       "[12538958 rows x 3 columns]"
      ]
     },
     "execution_count": 11,
     "metadata": {},
     "output_type": "execute_result"
    }
   ],
   "source": [
    "all_predictions = all_predictions.rename(columns={'user':'userID', 'name':'itemID'})\n",
    "all_predictions"
   ]
  },
  {
   "cell_type": "code",
   "execution_count": 14,
   "metadata": {},
   "outputs": [
    {
     "data": {
      "text/html": [
       "<div>\n",
       "<style scoped>\n",
       "    .dataframe tbody tr th:only-of-type {\n",
       "        vertical-align: middle;\n",
       "    }\n",
       "\n",
       "    .dataframe tbody tr th {\n",
       "        vertical-align: top;\n",
       "    }\n",
       "\n",
       "    .dataframe thead th {\n",
       "        text-align: right;\n",
       "    }\n",
       "</style>\n",
       "<table border=\"1\" class=\"dataframe\">\n",
       "  <thead>\n",
       "    <tr style=\"text-align: right;\">\n",
       "      <th></th>\n",
       "      <th>userID</th>\n",
       "      <th>itemID</th>\n",
       "      <th>rating</th>\n",
       "    </tr>\n",
       "  </thead>\n",
       "  <tbody>\n",
       "    <tr>\n",
       "      <th>1921817</th>\n",
       "      <td>twohu2001</td>\n",
       "      <td>Dream Home</td>\n",
       "      <td>7.0</td>\n",
       "    </tr>\n",
       "    <tr>\n",
       "      <th>1855348</th>\n",
       "      <td>strubs42</td>\n",
       "      <td>Chimera Station</td>\n",
       "      <td>6.3</td>\n",
       "    </tr>\n",
       "    <tr>\n",
       "      <th>474459</th>\n",
       "      <td>Magnus the Blue</td>\n",
       "      <td>Ticket to Ride: The Card Game</td>\n",
       "      <td>5.0</td>\n",
       "    </tr>\n",
       "    <tr>\n",
       "      <th>1164015</th>\n",
       "      <td>dontylw</td>\n",
       "      <td>Thurn and Taxis</td>\n",
       "      <td>6.0</td>\n",
       "    </tr>\n",
       "    <tr>\n",
       "      <th>328830</th>\n",
       "      <td>Hessu68</td>\n",
       "      <td>Room 25</td>\n",
       "      <td>7.0</td>\n",
       "    </tr>\n",
       "    <tr>\n",
       "      <th>...</th>\n",
       "      <td>...</td>\n",
       "      <td>...</td>\n",
       "      <td>...</td>\n",
       "    </tr>\n",
       "    <tr>\n",
       "      <th>64238</th>\n",
       "      <td>Bastwood</td>\n",
       "      <td>On the Underground: London/Berlin</td>\n",
       "      <td>7.0</td>\n",
       "    </tr>\n",
       "    <tr>\n",
       "      <th>147374</th>\n",
       "      <td>Clapas</td>\n",
       "      <td>Asgard</td>\n",
       "      <td>6.0</td>\n",
       "    </tr>\n",
       "    <tr>\n",
       "      <th>1610665</th>\n",
       "      <td>newkillerstar27</td>\n",
       "      <td>Mai-Star</td>\n",
       "      <td>1.0</td>\n",
       "    </tr>\n",
       "    <tr>\n",
       "      <th>1584725</th>\n",
       "      <td>montsegur</td>\n",
       "      <td>Palazzo</td>\n",
       "      <td>7.0</td>\n",
       "    </tr>\n",
       "    <tr>\n",
       "      <th>1816587</th>\n",
       "      <td>slyde</td>\n",
       "      <td>Elder Sign</td>\n",
       "      <td>6.0</td>\n",
       "    </tr>\n",
       "  </tbody>\n",
       "</table>\n",
       "<p>504679 rows × 3 columns</p>\n",
       "</div>"
      ],
      "text/plain": [
       "                  userID                             itemID  rating\n",
       "1921817        twohu2001                         Dream Home     7.0\n",
       "1855348         strubs42                    Chimera Station     6.3\n",
       "474459   Magnus the Blue      Ticket to Ride: The Card Game     5.0\n",
       "1164015          dontylw                    Thurn and Taxis     6.0\n",
       "328830           Hessu68                            Room 25     7.0\n",
       "...                  ...                                ...     ...\n",
       "64238           Bastwood  On the Underground: London/Berlin     7.0\n",
       "147374            Clapas                             Asgard     6.0\n",
       "1610665  newkillerstar27                           Mai-Star     1.0\n",
       "1584725        montsegur                            Palazzo     7.0\n",
       "1816587            slyde                         Elder Sign     6.0\n",
       "\n",
       "[504679 rows x 3 columns]"
      ]
     },
     "execution_count": 14,
     "metadata": {},
     "output_type": "execute_result"
    }
   ],
   "source": [
    "test = test.rename(columns={'user':'userID', 'name':'itemID'})\n",
    "test"
   ]
  },
  {
   "cell_type": "code",
   "execution_count": 15,
   "metadata": {},
   "outputs": [
    {
     "name": "stdout",
     "output_type": "stream",
     "text": [
      "MAP:\t0.042903\n",
      "NDCG:\t0.779087\n",
      "Precision@K:\t0.764949\n",
      "Recall@K:\t0.049715\n"
     ]
    }
   ],
   "source": [
    "eval_map = map_at_k(test, all_predictions, col_prediction='prediction', k=TOP_K)\n",
    "eval_ndcg = ndcg_at_k(test, all_predictions, col_prediction='prediction', k=TOP_K)\n",
    "eval_precision = precision_at_k(test, all_predictions, col_prediction='prediction', k=TOP_K)\n",
    "eval_recall = recall_at_k(test, all_predictions, col_prediction='prediction', k=TOP_K)\n",
    "\n",
    "print(\"MAP:\\t%f\" % eval_map,\n",
    "      \"NDCG:\\t%f\" % eval_ndcg,\n",
    "      \"Precision@K:\\t%f\" % eval_precision,\n",
    "      \"Recall@K:\\t%f\" % eval_recall, sep='\\n')"
   ]
  },
  {
   "cell_type": "code",
   "execution_count": 52,
   "metadata": {},
   "outputs": [
    {
     "data": {
      "text/plain": [
       "['../model/bivae.pkl']"
      ]
     },
     "execution_count": 52,
     "metadata": {},
     "output_type": "execute_result"
    }
   ],
   "source": [
    "# Save the model\n",
    "joblib.dump(bivae, '../model/bivae.pkl')"
   ]
  },
  {
   "cell_type": "code",
   "execution_count": 54,
   "metadata": {},
   "outputs": [],
   "source": [
    "# Load the model\n",
    "model = joblib.load('../model/bivae.pkl')"
   ]
  },
  {
   "cell_type": "code",
   "execution_count": 1,
   "metadata": {},
   "outputs": [],
   "source": [
    "# df_train = pd.DataFrame({'user':['Kop'], 'name': ['Splendor'], 'rating': [9]})\n",
    "# df_train"
   ]
  },
  {
   "cell_type": "code",
   "execution_count": 65,
   "metadata": {},
   "outputs": [],
   "source": [
    "# prediction = predict_ranking(model, df_train, usercol='user', itemcol='name', remove_seen=True)"
   ]
  }
 ],
 "metadata": {
  "kernelspec": {
   "display_name": "Python 3",
   "language": "python",
   "name": "python3"
  },
  "language_info": {
   "codemirror_mode": {
    "name": "ipython",
    "version": 3
   },
   "file_extension": ".py",
   "mimetype": "text/x-python",
   "name": "python",
   "nbconvert_exporter": "python",
   "pygments_lexer": "ipython3",
   "version": "3.8.0"
  },
  "orig_nbformat": 4,
  "vscode": {
   "interpreter": {
    "hash": "5d04d0ea025a2b5c0a405c24c3ed943d49065a11de485e353892bf0638615a3b"
   }
  }
 },
 "nbformat": 4,
 "nbformat_minor": 2
}
